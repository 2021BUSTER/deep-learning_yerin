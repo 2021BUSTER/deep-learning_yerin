{
  "nbformat": 4,
  "nbformat_minor": 0,
  "metadata": {
    "colab": {
      "name": "16_CNN_기본프레임_MNIST Simple",
      "provenance": [],
      "collapsed_sections": [],
      "authorship_tag": "ABX9TyOmxD0p4zzPFPJ0Js8JO+tZ",
      "include_colab_link": true
    },
    "kernelspec": {
      "name": "python3",
      "display_name": "Python 3"
    },
    "language_info": {
      "name": "python"
    }
  },
  "cells": [
    {
      "cell_type": "markdown",
      "metadata": {
        "id": "view-in-github",
        "colab_type": "text"
      },
      "source": [
        "<a href=\"https://colab.research.google.com/github/2021BUSTER/deep-learning_yerin/blob/main/16_CNN_%EA%B8%B0%EB%B3%B8%ED%94%84%EB%A0%88%EC%9E%84_MNIST_Simple.ipynb\" target=\"_parent\"><img src=\"https://colab.research.google.com/assets/colab-badge.svg\" alt=\"Open In Colab\"/></a>"
      ]
    },
    {
      "cell_type": "code",
      "metadata": {
        "id": "KtyX_L-R0Eb2"
      },
      "source": [
        "import tensorflow as tf\n",
        "import matplotlib.pyplot as plt\n",
        "import numpy\n",
        "import os\n",
        "\n",
        "from keras.datasets import mnist\n",
        "from keras.utils import np_utils\n",
        "from keras.models import Sequential\n",
        "from keras.layers import Dense\n",
        "from keras.callbacks import ModelCheckpoint,EarlyStopping"
      ],
      "execution_count": 1,
      "outputs": []
    },
    {
      "cell_type": "code",
      "metadata": {
        "colab": {
          "base_uri": "https://localhost:8080/"
        },
        "id": "flKOWmai0dVk",
        "outputId": "2a9c436c-9a80-4fda-c939-a21b0b1b5d65"
      },
      "source": [
        "# seed 값 설정\n",
        "seed = 0\n",
        "numpy.random.seed(seed)\n",
        "tf.compat.v1.set_random_seed(3)\n",
        "\n",
        "#***속성값을 지닌 X, 클래스 값을 지닌 Y로 구분***\n",
        "# MNIST 데이터 불러오기\n",
        "(X_train, Y_train), (X_test, Y_test) = mnist.load_data()\n",
        "\n",
        "# 차원 변환 과정\n",
        "X_train = X_train.reshape(X_train.shape[0], 784).astype('float32') / 255\n",
        "X_test = X_test.reshape(X_test.shape[0], 784).astype('float32') / 255\n",
        "\n",
        "# 바이너리화 과정 (원-핫 인코딩)\n",
        "Y_train = np_utils.to_categorical(Y_train, 10)\n",
        "Y_test = np_utils.to_categorical(Y_test, 10)"
      ],
      "execution_count": 2,
      "outputs": [
        {
          "output_type": "stream",
          "text": [
            "Downloading data from https://storage.googleapis.com/tensorflow/tf-keras-datasets/mnist.npz\n",
            "11493376/11490434 [==============================] - 0s 0us/step\n"
          ],
          "name": "stdout"
        }
      ]
    },
    {
      "cell_type": "code",
      "metadata": {
        "colab": {
          "base_uri": "https://localhost:8080/"
        },
        "id": "v6Ou8aVl0hFp",
        "outputId": "eddb8020-74d3-42aa-88b9-623b4b377de2"
      },
      "source": [
        "# 모델 프레임 설정\n",
        "model = Sequential()\n",
        "model.add(Dense(512, input_dim=784, activation='relu')) #784개의 속성, 512개의 은닉층\n",
        "model.add(Dense(10, activation='softmax'))  #10개의 클래스\n",
        "\n",
        "# 모델 실행 환경 설정(오차함수, 최적화 함수 설정)\n",
        "model.compile(loss='categorical_crossentropy',\n",
        "              optimizer='adam',\n",
        "              metrics=['accuracy'])\n",
        "\n",
        "# 모델 최적화 설정(10회 이상 모델의 성과 향상이 없으면 자동으로 학습 중단)\n",
        "MODEL_DIR = './model/'\n",
        "if not os.path.exists(MODEL_DIR):\n",
        "    os.mkdir(MODEL_DIR)\n",
        "\n",
        "modelpath=\"./model/{epoch:02d}-{val_loss:.4f}.hdf5\"\n",
        "checkpointer = ModelCheckpoint(filepath=modelpath, monitor='val_loss', verbose=1, save_best_only=True) #모델 업데이트 및 저장\n",
        "early_stopping_callback = EarlyStopping(monitor='val_loss', patience=10)  #학습자동중단\n",
        "\n",
        "# 모델의 실행(샘플 200개를 모두 30번 실행하도록 설정)\n",
        "history = model.fit(X_train, Y_train, validation_data=(X_test, Y_test), epochs=30, batch_size=200, verbose=0, callbacks=[early_stopping_callback,checkpointer])"
      ],
      "execution_count": 4,
      "outputs": [
        {
          "output_type": "stream",
          "text": [
            "\n",
            "Epoch 00001: val_loss improved from inf to 0.14919, saving model to ./model/01-0.1492.hdf5\n",
            "\n",
            "Epoch 00002: val_loss improved from 0.14919 to 0.10328, saving model to ./model/02-0.1033.hdf5\n",
            "\n",
            "Epoch 00003: val_loss improved from 0.10328 to 0.09059, saving model to ./model/03-0.0906.hdf5\n",
            "\n",
            "Epoch 00004: val_loss improved from 0.09059 to 0.07621, saving model to ./model/04-0.0762.hdf5\n",
            "\n",
            "Epoch 00005: val_loss improved from 0.07621 to 0.07487, saving model to ./model/05-0.0749.hdf5\n",
            "\n",
            "Epoch 00006: val_loss improved from 0.07487 to 0.06903, saving model to ./model/06-0.0690.hdf5\n",
            "\n",
            "Epoch 00007: val_loss improved from 0.06903 to 0.06640, saving model to ./model/07-0.0664.hdf5\n",
            "\n",
            "Epoch 00008: val_loss improved from 0.06640 to 0.06415, saving model to ./model/08-0.0641.hdf5\n",
            "\n",
            "Epoch 00009: val_loss improved from 0.06415 to 0.06395, saving model to ./model/09-0.0640.hdf5\n",
            "\n",
            "Epoch 00010: val_loss did not improve from 0.06395\n",
            "\n",
            "Epoch 00011: val_loss improved from 0.06395 to 0.06378, saving model to ./model/11-0.0638.hdf5\n",
            "\n",
            "Epoch 00012: val_loss did not improve from 0.06378\n",
            "\n",
            "Epoch 00013: val_loss improved from 0.06378 to 0.05911, saving model to ./model/13-0.0591.hdf5\n",
            "\n",
            "Epoch 00014: val_loss did not improve from 0.05911\n",
            "\n",
            "Epoch 00015: val_loss did not improve from 0.05911\n",
            "\n",
            "Epoch 00016: val_loss did not improve from 0.05911\n",
            "\n",
            "Epoch 00017: val_loss did not improve from 0.05911\n",
            "\n",
            "Epoch 00018: val_loss did not improve from 0.05911\n",
            "\n",
            "Epoch 00019: val_loss did not improve from 0.05911\n",
            "\n",
            "Epoch 00020: val_loss did not improve from 0.05911\n",
            "\n",
            "Epoch 00021: val_loss did not improve from 0.05911\n",
            "\n",
            "Epoch 00022: val_loss did not improve from 0.05911\n",
            "\n",
            "Epoch 00023: val_loss did not improve from 0.05911\n"
          ],
          "name": "stdout"
        }
      ]
    },
    {
      "cell_type": "code",
      "metadata": {
        "colab": {
          "base_uri": "https://localhost:8080/"
        },
        "id": "VgvCTvru0kIZ",
        "outputId": "bc88ed22-c508-4ecd-94e5-3d709d6040ba"
      },
      "source": [
        "# 테스트 정확도 출력\n",
        "print(\"\\n Test Accuracy: %.4f\" % (model.evaluate(X_test, Y_test)[1]))\n",
        "\n",
        "# 테스트 셋의 오차\n",
        "y_vloss = history.history['val_loss']\n",
        "\n",
        "# 학습셋의 오차\n",
        "y_loss = history.history['loss']"
      ],
      "execution_count": 5,
      "outputs": [
        {
          "output_type": "stream",
          "text": [
            "313/313 [==============================] - 1s 3ms/step - loss: 0.0684 - accuracy: 0.9841\n",
            "\n",
            " Test Accuracy: 0.9841\n"
          ],
          "name": "stdout"
        }
      ]
    },
    {
      "cell_type": "code",
      "metadata": {
        "colab": {
          "base_uri": "https://localhost:8080/",
          "height": 278
        },
        "id": "mUW24xEq0nJr",
        "outputId": "f9893b71-dc02-4348-a939-504ef667fe22"
      },
      "source": [
        "# 그래프로 표현\n",
        "x_len = numpy.arange(len(y_loss))\n",
        "plt.plot(x_len, y_vloss, marker='.', c=\"red\", label='Testset_loss')\n",
        "plt.plot(x_len, y_loss, marker='.', c=\"blue\", label='Trainset_loss')\n",
        "\n",
        "# 그래프에 그리드를 주고 레이블을 표시\n",
        "plt.legend(loc='upper right')\n",
        "# plt.axis([0, 20, 0, 0.35])\n",
        "plt.grid()\n",
        "plt.xlabel('epoch')\n",
        "plt.ylabel('loss')\n",
        "plt.show()"
      ],
      "execution_count": 6,
      "outputs": [
        {
          "output_type": "display_data",
          "data": {
            "image/png": "[encoded data removed]",
            "text/plain": [
              "<Figure size 432x288 with 1 Axes>"
            ]
          },
          "metadata": {
            "tags": [],
            "needs_background": "light"
          }
        }
      ]
    }
  ]
}