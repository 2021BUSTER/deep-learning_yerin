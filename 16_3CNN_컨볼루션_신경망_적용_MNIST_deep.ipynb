{
  "nbformat": 4,
  "nbformat_minor": 0,
  "metadata": {
    "colab": {
      "name": "16_3CNN_컨볼루션 신경망 적용_MNIST deep",
      "provenance": [],
      "collapsed_sections": [],
      "authorship_tag": "ABX9TyN9w43MMs1QMq738GdM3Kqg",
      "include_colab_link": true
    },
    "kernelspec": {
      "name": "python3",
      "display_name": "Python 3"
    },
    "language_info": {
      "name": "python"
    }
  },
  "cells": [
    {
      "cell_type": "markdown",
      "metadata": {
        "id": "view-in-github",
        "colab_type": "text"
      },
      "source": [
        "<a href=\"https://colab.research.google.com/github/2021BUSTER/deep-learning_yerin/blob/main/16_3CNN_%EC%BB%A8%EB%B3%BC%EB%A3%A8%EC%85%98_%EC%8B%A0%EA%B2%BD%EB%A7%9D_%EC%A0%81%EC%9A%A9_MNIST_deep.ipynb\" target=\"_parent\"><img src=\"https://colab.research.google.com/assets/colab-badge.svg\" alt=\"Open In Colab\"/></a>"
      ]
    },
    {
      "cell_type": "code",
      "metadata": {
        "id": "KtyX_L-R0Eb2"
      },
      "source": [
        "import tensorflow as tf\n",
        "import matplotlib.pyplot as plt\n",
        "import numpy\n",
        "import os\n",
        "\n",
        "from keras.datasets import mnist\n",
        "from keras.utils import np_utils\n",
        "from keras.models import Sequential\n",
        "from keras.layers import Dense, Dropout, Flatten, Conv2D,MaxPooling2D\n",
        "from keras.callbacks import ModelCheckpoint,EarlyStopping"
      ],
      "execution_count": 14,
      "outputs": []
    },
    {
      "cell_type": "code",
      "metadata": {
        "id": "flKOWmai0dVk"
      },
      "source": [
        "# seed 값 설정\n",
        "seed = 0\n",
        "numpy.random.seed(seed)\n",
        "tf.compat.v1.set_random_seed(3)\n",
        "\n",
        "#***속성값을 지닌 X, 클래스 값을 지닌 Y로 구분***\n",
        "# MNIST 데이터 불러오기\n",
        "(X_train, Y_train), (X_test, Y_test) = mnist.load_data()\n",
        "\n",
        "# 차원 변환 과정\n",
        "X_train = X_train.reshape(X_train.shape[0], 28, 28, 1).astype('float32') / 255\n",
        "X_test = X_test.reshape(X_test.shape[0], 28,28,1).astype('float32') / 255\n",
        "\n",
        "# 바이너리화 과정 (원-핫 인코딩)\n",
        "Y_train = np_utils.to_categorical(Y_train, 10)\n",
        "Y_test = np_utils.to_categorical(Y_test, 10)"
      ],
      "execution_count": 19,
      "outputs": []
    },
    {
      "cell_type": "code",
      "metadata": {
        "id": "IlAVFkkw9r_r"
      },
      "source": [
        "# 컨볼루션 신경망의 설정\n",
        "model = Sequential()\n",
        "\n",
        "#커널 수 32개, 커널 사이즈 3x3, input_shape = (행,열,색상(1:흑백))\n",
        "model.add(Conv2D(32, kernel_size=(3, 3), input_shape=(28, 28, 1), activation='relu'))\n",
        "model.add(Conv2D(64, (3, 3), activation='relu'))\n",
        "\n",
        "model.add(MaxPooling2D(pool_size=2)) #Maxpooling을 사용하여 전체 사이즈를 1/2로 축소\n",
        "model.add(Dropout(0.25)) #과적함을 효과적으로 줄이기 위해 25%의 노드를 dropout함\n",
        "model.add(Flatten()) #2차원 -> 1차원\n",
        "\n",
        "model.add(Dense(128,  activation='relu'))\n",
        "model.add(Dropout(0.5)) #과적함을 효과적으로 줄이기 위해 50%의 노드를 dropout함\n",
        "model.add(Dense(10, activation='softmax'))\n",
        "\n",
        "# 모델 실행 환경 설정(오차함수, 최적화 함수 설정)\n",
        "model.compile(loss='categorical_crossentropy',\n",
        "              optimizer='adam',\n",
        "              metrics=['accuracy'])"
      ],
      "execution_count": 20,
      "outputs": []
    },
    {
      "cell_type": "code",
      "metadata": {
        "colab": {
          "base_uri": "https://localhost:8080/"
        },
        "id": "v6Ou8aVl0hFp",
        "outputId": "ceb9e408-41ca-4666-b095-68b1e9eb4ec9"
      },
      "source": [
        "# 모델 최적화 설정(10회 이상 모델의 성과 향상이 없으면 자동으로 학습 중단)\n",
        "MODEL_DIR = './model/'\n",
        "if not os.path.exists(MODEL_DIR):\n",
        "    os.mkdir(MODEL_DIR)\n",
        "\n",
        "modelpath=\"./model/{epoch:02d}-{val_loss:.4f}.hdf5\"\n",
        "checkpointer = ModelCheckpoint(filepath=modelpath, monitor='val_loss', verbose=1, save_best_only=True) #모델 업데이트 및 저장\n",
        "early_stopping_callback = EarlyStopping(monitor='val_loss', patience=10)  #학습자동중단\n",
        "\n",
        "# 모델의 실행(샘플 200개를 모두 30번 실행하도록 설정)\n",
        "history = model.fit(X_train, Y_train, validation_data=(X_test, Y_test), epochs=30, batch_size=200, verbose=0, callbacks=[early_stopping_callback,checkpointer])"
      ],
      "execution_count": 22,
      "outputs": [
        {
          "output_type": "stream",
          "text": [
            "\n",
            "Epoch 00001: val_loss improved from inf to 0.04226, saving model to ./model/01-0.0423.hdf5\n",
            "\n",
            "Epoch 00002: val_loss improved from 0.04226 to 0.03519, saving model to ./model/02-0.0352.hdf5\n",
            "\n",
            "Epoch 00003: val_loss improved from 0.03519 to 0.03306, saving model to ./model/03-0.0331.hdf5\n",
            "\n",
            "Epoch 00004: val_loss improved from 0.03306 to 0.03236, saving model to ./model/04-0.0324.hdf5\n",
            "\n",
            "Epoch 00005: val_loss improved from 0.03236 to 0.02864, saving model to ./model/05-0.0286.hdf5\n",
            "\n",
            "Epoch 00006: val_loss improved from 0.02864 to 0.02673, saving model to ./model/06-0.0267.hdf5\n",
            "\n",
            "Epoch 00007: val_loss did not improve from 0.02673\n",
            "\n",
            "Epoch 00008: val_loss did not improve from 0.02673\n",
            "\n",
            "Epoch 00009: val_loss did not improve from 0.02673\n",
            "\n",
            "Epoch 00010: val_loss did not improve from 0.02673\n",
            "\n",
            "Epoch 00011: val_loss improved from 0.02673 to 0.02587, saving model to ./model/11-0.0259.hdf5\n",
            "\n",
            "Epoch 00012: val_loss did not improve from 0.02587\n",
            "\n",
            "Epoch 00013: val_loss did not improve from 0.02587\n",
            "\n",
            "Epoch 00014: val_loss did not improve from 0.02587\n",
            "\n",
            "Epoch 00015: val_loss did not improve from 0.02587\n",
            "\n",
            "Epoch 00016: val_loss did not improve from 0.02587\n",
            "\n",
            "Epoch 00017: val_loss did not improve from 0.02587\n",
            "\n",
            "Epoch 00018: val_loss did not improve from 0.02587\n",
            "\n",
            "Epoch 00019: val_loss did not improve from 0.02587\n",
            "\n",
            "Epoch 00020: val_loss did not improve from 0.02587\n",
            "\n",
            "Epoch 00021: val_loss did not improve from 0.02587\n"
          ],
          "name": "stdout"
        }
      ]
    },
    {
      "cell_type": "code",
      "metadata": {
        "colab": {
          "base_uri": "https://localhost:8080/"
        },
        "id": "VgvCTvru0kIZ",
        "outputId": "af4891ba-70ef-4cc5-e50a-93adabe1ffcf"
      },
      "source": [
        "# 테스트 정확도 출력\n",
        "print(\"\\n Test Accuracy: %.4f\" % (model.evaluate(X_test, Y_test)[1]))\n",
        "\n",
        "# 테스트 셋의 오차\n",
        "y_vloss = history.history['val_loss']\n",
        "\n",
        "# 학습셋의 오차\n",
        "y_loss = history.history['loss']"
      ],
      "execution_count": 23,
      "outputs": [
        {
          "output_type": "stream",
          "text": [
            "313/313 [==============================] - 7s 21ms/step - loss: 0.0326 - accuracy: 0.9930\n",
            "\n",
            " Test Accuracy: 0.9930\n"
          ],
          "name": "stdout"
        }
      ]
    },
    {
      "cell_type": "code",
      "metadata": {
        "colab": {
          "base_uri": "https://localhost:8080/",
          "height": 278
        },
        "id": "mUW24xEq0nJr",
        "outputId": "df916da6-7561-4386-e7ea-0b692f01638b"
      },
      "source": [
        "# 그래프로 표현\n",
        "x_len = numpy.arange(len(y_loss))\n",
        "plt.plot(x_len, y_vloss, marker='.', c=\"red\", label='Testset_loss')\n",
        "plt.plot(x_len, y_loss, marker='.', c=\"blue\", label='Trainset_loss')\n",
        "\n",
        "# 그래프에 그리드를 주고 레이블을 표시\n",
        "plt.legend(loc='upper right')\n",
        "# plt.axis([0, 20, 0, 0.35])\n",
        "plt.grid()\n",
        "plt.xlabel('epoch')\n",
        "plt.ylabel('loss')\n",
        "plt.show()"
      ],
      "execution_count": 24,
      "outputs": [
        {
          "output_type": "display_data",
          "data": {
            "image/png": "[encoded data removed]",
            "text/plain": [
              "<Figure size 432x288 with 1 Axes>"
            ]
          },
          "metadata": {
            "tags": [],
            "needs_background": "light"
          }
        }
      ]
    }
  ]
}